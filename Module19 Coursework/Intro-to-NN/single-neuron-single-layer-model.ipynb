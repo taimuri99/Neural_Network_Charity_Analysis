{
 "cells": [
  {
   "cell_type": "code",
   "execution_count": 1,
   "id": "7368d79b",
   "metadata": {},
   "outputs": [],
   "source": [
    "# Import our dependencies\n",
    "import pandas as pd\n",
    "import matplotlib as plt\n",
    "from sklearn.datasets import make_blobs\n",
    "import sklearn as skl\n",
    "import tensorflow as tf"
   ]
  },
  {
   "cell_type": "code",
   "execution_count": 2,
   "id": "643f0ec5",
   "metadata": {},
   "outputs": [
    {
     "data": {
      "text/plain": [
       "<AxesSubplot:xlabel='Feature 1', ylabel='Feature 2'>"
      ]
     },
     "execution_count": 2,
     "metadata": {},
     "output_type": "execute_result"
    },
    {
     "data": {
      "image/png": "[encoded data removed]",
      "text/plain": [
       "<Figure size 432x288 with 2 Axes>"
      ]
     },
     "metadata": {
      "needs_background": "light"
     },
     "output_type": "display_data"
    }
   ],
   "source": [
    "# Once we have our required libraries imported into our notebook, we can create the dummy data using Scikit-learn's make_blobs method. The make_blobs is used to create sample values and contains many parameters that change the shape and values of the sample dataset. For our purposes, we'll use the make_blobs method to create 1,000 samples with two features (also known as our x- and y-axis values) that are linearly separable into two groups. In our notebook, we can generate and visualize our dummy data using the following code:\n",
    "\n",
    "# Generate dummy dataset\n",
    "X, y = make_blobs(n_samples=1000, centers=2, n_features=2, random_state=78)\n",
    "\n",
    "# Creating a DataFrame with the dummy data\n",
    "df = pd.DataFrame(X, columns=[\"Feature 1\", \"Feature 2\"])\n",
    "df[\"Target\"] = y\n",
    "\n",
    "# Plotting the dummy data\n",
    "df.plot.scatter(x=\"Feature 1\", y=\"Feature 2\", c=\"Target\", colormap=\"winter\")"
   ]
  },
  {
   "cell_type": "code",
   "execution_count": 3,
   "id": "64822446",
   "metadata": {},
   "outputs": [],
   "source": [
    "# Once we have our dummy data generated, we'll split our data into training and test datasets using Scikit-learn's train_test_split method. In our notebook, enter the following code to generate the training and test datasets:\n",
    "\n",
    "# Use sklearn to split dataset\n",
    "from sklearn.model_selection import train_test_split\n",
    "X_train, X_test, y_train, y_test = train_test_split(X, y, random_state=78)"
   ]
  },
  {
   "cell_type": "code",
   "execution_count": 4,
   "id": "7d652125",
   "metadata": {},
   "outputs": [],
   "source": [
    "# Now that we have our training data, we need to prepare the dataset for our neural network model. As with any machine learning algorithm, it is crucial to normalize or standardize our numerical variables to ensure that our neural network does not focus on outliers and can apply proper weights to each input. In most cases, the more that input variables are normalized to the same scale, the more stable the neural network model is, and the better the neural network model will generalize. To normalize our dummy data, we'll add and run the following code to the notebook:\n",
    "\n",
    "# Create scaler instance\n",
    "X_scaler = skl.preprocessing.StandardScaler()\n",
    "\n",
    "# Fit the scaler\n",
    "X_scaler.fit(X_train)\n",
    "\n",
    "# Scale the data\n",
    "X_train_scaled = X_scaler.transform(X_train)\n",
    "X_test_scaled = X_scaler.transform(X_test)"
   ]
  },
  {
   "cell_type": "code",
   "execution_count": 5,
   "id": "77c2eeff",
   "metadata": {},
   "outputs": [],
   "source": [
    "# To create the neural network in our notebook, first we must create our Sequential model. To do this, we must add the following code to the notebook:\n",
    "\n",
    "# Create the Keras Sequential model\n",
    "nn_model = tf.keras.models.Sequential()\n",
    "# The nn_model object will store the entire architecture of our neural network model. Our next step is to add our first layer, which will contain our inputs and a hidden layer of neurons."
   ]
  },
  {
   "cell_type": "code",
   "execution_count": 6,
   "id": "09ef794f",
   "metadata": {},
   "outputs": [
    {
     "name": "stderr",
     "output_type": "stream",
     "text": [
      "2024-08-28 03:03:45.652685: I tensorflow/core/platform/cpu_feature_guard.cc:145] This TensorFlow binary is optimized with Intel(R) MKL-DNN to use the following CPU instructions in performance critical operations:  SSE4.1 SSE4.2\n",
      "To enable them in non-MKL-DNN operations, rebuild TensorFlow with the appropriate compiler flags.\n",
      "2024-08-28 03:03:45.655596: I tensorflow/core/common_runtime/process_util.cc:115] Creating new thread pool with default inter op setting: 8. Tune using inter_op_parallelism_threads for best performance.\n"
     ]
    }
   ],
   "source": [
    "# The Keras module does not have specific classes for input, hidden, and output layers. All layers are built using the Dense class, and the input and first hidden layer are always built in the same instance.\n",
    "\n",
    "# The neural network architecture shows the data flow through the input\n",
    "# and hidden layer to the output\n",
    "# layer.\n",
    "\n",
    "# As we learned earlier, we can add layers to our Sequential model using Keras' Dense class. For our first layer, we need to define a few parameters:\n",
    "\n",
    "# The input_dimparameter indicates how many inputs will be in the model (in this case two).\n",
    "# The units parameter indicates how many neurons we want in the hidden layer (in this case one).\n",
    "# The activation parameter indicates which activation function to use. We'll use the ReLU activation function to allow our hidden layer to identify and train on nonlinear relationships in the dataset.\n",
    "# Putting it all together, our first Dense layer should have the following Python code:\n",
    "\n",
    "# Add our first Dense layer, including the input layer\n",
    "nn_model.add(tf.keras.layers.Dense(units=1, activation=\"relu\", input_dim=2))"
   ]
  },
  {
   "cell_type": "code",
   "execution_count": 7,
   "id": "6c21f92e",
   "metadata": {},
   "outputs": [],
   "source": [
    "# Defining an activation function as part of the first layer is suggested but not required. By default, a Dense layer will look for linear relationships.\n",
    "\n",
    "# Now that we have our input and hidden layers built, we need to add an output layer:\n",
    "\n",
    "# The neural network architecture shows the data flow through the input\n",
    "# and hidden layer to the output\n",
    "# layer.\n",
    "\n",
    "# Once again, we'll use the Dense class to tell our Sequential model what to do with the data. This time, we only need to supply the number of output neurons. For a classification model, we only want a yes or no binary decision; therefore, we only need one output neuron. In our previous layer, we used a ReLU activation function to enable nonlinear relationships; however, for our classification output, we want to use a sigmoid activation function to produce a probability output. Let's add the following code to our notebooks:\n",
    "\n",
    "# Add the output layer that uses a probability activation function\n",
    "nn_model.add(tf.keras.layers.Dense(units=1, activation=\"sigmoid\"))"
   ]
  },
  {
   "cell_type": "code",
   "execution_count": 8,
   "id": "8d09d43f",
   "metadata": {},
   "outputs": [
    {
     "name": "stdout",
     "output_type": "stream",
     "text": [
      "Model: \"sequential\"\n",
      "_________________________________________________________________\n",
      "Layer (type)                 Output Shape              Param #   \n",
      "=================================================================\n",
      "dense (Dense)                (None, 1)                 3         \n",
      "_________________________________________________________________\n",
      "dense_1 (Dense)              (None, 1)                 2         \n",
      "=================================================================\n",
      "Total params: 5\n",
      "Trainable params: 5\n",
      "Non-trainable params: 0\n",
      "_________________________________________________________________\n"
     ]
    }
   ],
   "source": [
    "# Now that we have added our layers to the Sequential model, we can double-check our model structure using the summary method. Try running the following code in your notebook:\n",
    "\n",
    "# Check the structure of the Sequential model\n",
    "nn_model.summary()"
   ]
  },
  {
   "cell_type": "code",
   "execution_count": 9,
   "id": "2b271f23",
   "metadata": {},
   "outputs": [],
   "source": [
    "# Now that we have our layers defined, we have to inform the model how it should train using the input data. The process of informing the model how it should learn and train is called compiling the model.\n",
    "\n",
    "# Depending on the function of the neural network, we'll have to compile the neural network using a specific optimization function and loss metric. The optimization function shapes and molds a neural network model while it is being trained to ensure that it performs to the best of its ability. The loss metric is used by machine learning algorithms to score the performance of the model through each iteration and epoch by evaluating the inaccuracy of a single input. To enhance the performance of our classification neural network, we'll use the adam optimizer, which uses a gradient descent approach to ensure that the algorithm will not get stuck on weaker classifying variables and features. As for the loss function, we'll use binary_crossentropy, which is specifically designed to evaluate a binary classification model.\n",
    "\n",
    "# IMPORTANT\n",
    "# There are many types of optimization functionsLinks to an external site. and loss metricsLinks to an external site. you may use in neural networks. We'll discuss and use a few in this module, but feel free to check out the Keras documentationLinks to an external site. for the full list of options.\n",
    "\n",
    "# In addition to the optimization function and loss metric, we'll also add a more reader-friendly evaluation metric, which measures the quality of the machine learning model. There are two main types of evaluation metrics—the model predictive accuracy and model mean squared error (MSE). We use accuracy for classification models and msefor regression models. For model predictive accuracy, the higher the number the better, whereas for regression models, MSE should reduce to zero.\n",
    "\n",
    "\n",
    "# Compile the Sequential model together and customize metrics\n",
    "nn_model.compile(loss=\"binary_crossentropy\", optimizer=\"adam\", metrics=[\"accuracy\"])"
   ]
  },
  {
   "cell_type": "code",
   "execution_count": 10,
   "id": "97684953",
   "metadata": {},
   "outputs": [
    {
     "name": "stdout",
     "output_type": "stream",
     "text": [
      "Train on 750 samples\n",
      "Epoch 1/100\n",
      "750/750 [==============================] - 1s 870us/sample - loss: 0.7109 - accuracy: 0.5067\n",
      "Epoch 2/100\n",
      "750/750 [==============================] - 0s 28us/sample - loss: 0.7042 - accuracy: 0.4360\n",
      "Epoch 3/100\n",
      "750/750 [==============================] - 0s 27us/sample - loss: 0.6985 - accuracy: 0.4733\n",
      "Epoch 4/100\n",
      "750/750 [==============================] - 0s 28us/sample - loss: 0.6939 - accuracy: 0.5053\n",
      "Epoch 5/100\n",
      "750/750 [==============================] - 0s 28us/sample - loss: 0.6894 - accuracy: 0.5600\n",
      "Epoch 6/100\n",
      "750/750 [==============================] - 0s 28us/sample - loss: 0.6851 - accuracy: 0.6093\n",
      "Epoch 7/100\n",
      "750/750 [==============================] - 0s 28us/sample - loss: 0.6798 - accuracy: 0.6760\n",
      "Epoch 8/100\n",
      "750/750 [==============================] - 0s 29us/sample - loss: 0.6726 - accuracy: 0.7293\n",
      "Epoch 9/100\n",
      "750/750 [==============================] - 0s 28us/sample - loss: 0.6622 - accuracy: 0.7987\n",
      "Epoch 10/100\n",
      "750/750 [==============================] - 0s 29us/sample - loss: 0.6484 - accuracy: 0.8667\n",
      "Epoch 11/100\n",
      "750/750 [==============================] - 0s 28us/sample - loss: 0.6308 - accuracy: 0.9173\n",
      "Epoch 12/100\n",
      "750/750 [==============================] - 0s 28us/sample - loss: 0.6119 - accuracy: 0.9533\n",
      "Epoch 13/100\n",
      "750/750 [==============================] - 0s 29us/sample - loss: 0.5922 - accuracy: 0.9720\n",
      "Epoch 14/100\n",
      "750/750 [==============================] - 0s 29us/sample - loss: 0.5724 - accuracy: 0.9840\n",
      "Epoch 15/100\n",
      "750/750 [==============================] - 0s 30us/sample - loss: 0.5529 - accuracy: 0.9960\n",
      "Epoch 16/100\n",
      "750/750 [==============================] - 0s 27us/sample - loss: 0.5336 - accuracy: 0.9973\n",
      "Epoch 17/100\n",
      "750/750 [==============================] - 0s 27us/sample - loss: 0.5149 - accuracy: 1.0000\n",
      "Epoch 18/100\n",
      "750/750 [==============================] - 0s 27us/sample - loss: 0.4964 - accuracy: 1.0000\n",
      "Epoch 19/100\n",
      "750/750 [==============================] - 0s 27us/sample - loss: 0.4786 - accuracy: 1.0000\n",
      "Epoch 20/100\n",
      "750/750 [==============================] - 0s 26us/sample - loss: 0.4614 - accuracy: 1.0000\n",
      "Epoch 21/100\n",
      "750/750 [==============================] - 0s 26us/sample - loss: 0.4449 - accuracy: 1.0000\n",
      "Epoch 22/100\n",
      "750/750 [==============================] - 0s 27us/sample - loss: 0.4290 - accuracy: 1.0000\n",
      "Epoch 23/100\n",
      "750/750 [==============================] - 0s 27us/sample - loss: 0.4138 - accuracy: 1.0000\n",
      "Epoch 24/100\n",
      "750/750 [==============================] - 0s 27us/sample - loss: 0.3992 - accuracy: 1.0000\n",
      "Epoch 25/100\n",
      "750/750 [==============================] - 0s 29us/sample - loss: 0.3854 - accuracy: 1.0000\n",
      "Epoch 26/100\n",
      "750/750 [==============================] - 0s 28us/sample - loss: 0.3722 - accuracy: 1.0000\n",
      "Epoch 27/100\n",
      "750/750 [==============================] - 0s 28us/sample - loss: 0.3596 - accuracy: 1.0000\n",
      "Epoch 28/100\n",
      "750/750 [==============================] - 0s 29us/sample - loss: 0.3477 - accuracy: 1.0000\n",
      "Epoch 29/100\n",
      "750/750 [==============================] - 0s 29us/sample - loss: 0.3364 - accuracy: 1.0000\n",
      "Epoch 30/100\n",
      "750/750 [==============================] - 0s 32us/sample - loss: 0.3256 - accuracy: 1.0000\n",
      "Epoch 31/100\n",
      "750/750 [==============================] - 0s 30us/sample - loss: 0.3154 - accuracy: 1.0000\n",
      "Epoch 32/100\n",
      "750/750 [==============================] - 0s 28us/sample - loss: 0.3056 - accuracy: 1.0000\n",
      "Epoch 33/100\n",
      "750/750 [==============================] - 0s 29us/sample - loss: 0.2964 - accuracy: 1.0000\n",
      "Epoch 34/100\n",
      "750/750 [==============================] - 0s 29us/sample - loss: 0.2876 - accuracy: 1.0000\n",
      "Epoch 35/100\n",
      "750/750 [==============================] - 0s 29us/sample - loss: 0.2793 - accuracy: 1.0000\n",
      "Epoch 36/100\n",
      "750/750 [==============================] - 0s 29us/sample - loss: 0.2713 - accuracy: 1.0000\n",
      "Epoch 37/100\n",
      "750/750 [==============================] - 0s 29us/sample - loss: 0.2637 - accuracy: 1.0000\n",
      "Epoch 38/100\n",
      "750/750 [==============================] - 0s 28us/sample - loss: 0.2565 - accuracy: 1.0000\n",
      "Epoch 39/100\n",
      "750/750 [==============================] - 0s 28us/sample - loss: 0.2496 - accuracy: 1.0000\n",
      "Epoch 40/100\n",
      "750/750 [==============================] - 0s 28us/sample - loss: 0.2430 - accuracy: 1.0000\n",
      "Epoch 41/100\n",
      "750/750 [==============================] - 0s 27us/sample - loss: 0.2367 - accuracy: 1.0000\n",
      "Epoch 42/100\n",
      "750/750 [==============================] - 0s 27us/sample - loss: 0.2306 - accuracy: 1.0000\n",
      "Epoch 43/100\n",
      "750/750 [==============================] - 0s 37us/sample - loss: 0.2248 - accuracy: 1.0000\n",
      "Epoch 44/100\n",
      "750/750 [==============================] - 0s 28us/sample - loss: 0.2192 - accuracy: 1.0000\n",
      "Epoch 45/100\n",
      "750/750 [==============================] - 0s 28us/sample - loss: 0.2139 - accuracy: 1.0000\n",
      "Epoch 46/100\n",
      "750/750 [==============================] - 0s 28us/sample - loss: 0.2087 - accuracy: 1.0000\n",
      "Epoch 47/100\n",
      "750/750 [==============================] - 0s 28us/sample - loss: 0.2038 - accuracy: 1.0000\n",
      "Epoch 48/100\n",
      "750/750 [==============================] - 0s 27us/sample - loss: 0.1990 - accuracy: 1.0000\n",
      "Epoch 49/100\n",
      "750/750 [==============================] - 0s 28us/sample - loss: 0.1945 - accuracy: 1.0000\n",
      "Epoch 50/100\n",
      "750/750 [==============================] - 0s 28us/sample - loss: 0.1901 - accuracy: 1.0000\n",
      "Epoch 51/100\n",
      "750/750 [==============================] - 0s 28us/sample - loss: 0.1858 - accuracy: 1.0000\n",
      "Epoch 52/100\n",
      "750/750 [==============================] - 0s 28us/sample - loss: 0.1817 - accuracy: 1.0000\n",
      "Epoch 53/100\n",
      "750/750 [==============================] - 0s 28us/sample - loss: 0.1777 - accuracy: 1.0000\n",
      "Epoch 54/100\n",
      "750/750 [==============================] - 0s 28us/sample - loss: 0.1739 - accuracy: 1.0000\n",
      "Epoch 55/100\n",
      "750/750 [==============================] - 0s 27us/sample - loss: 0.1702 - accuracy: 1.0000\n",
      "Epoch 56/100\n",
      "750/750 [==============================] - 0s 28us/sample - loss: 0.1666 - accuracy: 1.0000\n",
      "Epoch 57/100\n",
      "750/750 [==============================] - 0s 26us/sample - loss: 0.1632 - accuracy: 1.0000\n",
      "Epoch 58/100\n",
      "750/750 [==============================] - 0s 29us/sample - loss: 0.1598 - accuracy: 1.0000\n",
      "Epoch 59/100\n",
      "750/750 [==============================] - 0s 27us/sample - loss: 0.1565 - accuracy: 1.0000\n",
      "Epoch 60/100\n",
      "750/750 [==============================] - 0s 28us/sample - loss: 0.1534 - accuracy: 1.0000\n",
      "Epoch 61/100\n",
      "750/750 [==============================] - 0s 28us/sample - loss: 0.1504 - accuracy: 1.0000\n",
      "Epoch 62/100\n",
      "750/750 [==============================] - 0s 27us/sample - loss: 0.1474 - accuracy: 1.0000\n",
      "Epoch 63/100\n",
      "750/750 [==============================] - 0s 28us/sample - loss: 0.1445 - accuracy: 1.0000\n",
      "Epoch 64/100\n",
      "750/750 [==============================] - 0s 27us/sample - loss: 0.1417 - accuracy: 1.0000\n",
      "Epoch 65/100\n",
      "750/750 [==============================] - 0s 27us/sample - loss: 0.1390 - accuracy: 1.0000\n",
      "Epoch 66/100\n",
      "750/750 [==============================] - 0s 28us/sample - loss: 0.1363 - accuracy: 1.0000\n",
      "Epoch 67/100\n",
      "750/750 [==============================] - 0s 27us/sample - loss: 0.1338 - accuracy: 1.0000\n",
      "Epoch 68/100\n",
      "750/750 [==============================] - 0s 26us/sample - loss: 0.1313 - accuracy: 1.0000\n",
      "Epoch 69/100\n",
      "750/750 [==============================] - 0s 26us/sample - loss: 0.1288 - accuracy: 1.0000\n",
      "Epoch 70/100\n",
      "750/750 [==============================] - 0s 27us/sample - loss: 0.1265 - accuracy: 1.0000\n",
      "Epoch 71/100\n",
      "750/750 [==============================] - 0s 28us/sample - loss: 0.1241 - accuracy: 1.0000\n",
      "Epoch 72/100\n",
      "750/750 [==============================] - 0s 28us/sample - loss: 0.1219 - accuracy: 1.0000\n",
      "Epoch 73/100\n",
      "750/750 [==============================] - 0s 28us/sample - loss: 0.1197 - accuracy: 1.0000\n",
      "Epoch 74/100\n",
      "750/750 [==============================] - 0s 28us/sample - loss: 0.1176 - accuracy: 1.0000\n",
      "Epoch 75/100\n",
      "750/750 [==============================] - 0s 28us/sample - loss: 0.1155 - accuracy: 1.0000\n",
      "Epoch 76/100\n",
      "750/750 [==============================] - 0s 26us/sample - loss: 0.1135 - accuracy: 1.0000\n",
      "Epoch 77/100\n",
      "750/750 [==============================] - 0s 30us/sample - loss: 0.1115 - accuracy: 1.0000\n",
      "Epoch 78/100\n"
     ]
    },
    {
     "name": "stdout",
     "output_type": "stream",
     "text": [
      "750/750 [==============================] - 0s 27us/sample - loss: 0.1096 - accuracy: 1.0000\n",
      "Epoch 79/100\n",
      "750/750 [==============================] - 0s 38us/sample - loss: 0.1077 - accuracy: 1.0000\n",
      "Epoch 80/100\n",
      "750/750 [==============================] - 0s 28us/sample - loss: 0.1058 - accuracy: 1.0000\n",
      "Epoch 81/100\n",
      "750/750 [==============================] - 0s 27us/sample - loss: 0.1040 - accuracy: 1.0000\n",
      "Epoch 82/100\n",
      "750/750 [==============================] - 0s 28us/sample - loss: 0.1023 - accuracy: 1.0000\n",
      "Epoch 83/100\n",
      "750/750 [==============================] - 0s 27us/sample - loss: 0.1006 - accuracy: 1.0000\n",
      "Epoch 84/100\n",
      "750/750 [==============================] - 0s 27us/sample - loss: 0.0989 - accuracy: 1.0000\n",
      "Epoch 85/100\n",
      "750/750 [==============================] - 0s 27us/sample - loss: 0.0973 - accuracy: 1.0000\n",
      "Epoch 86/100\n",
      "750/750 [==============================] - 0s 26us/sample - loss: 0.0957 - accuracy: 1.0000\n",
      "Epoch 87/100\n",
      "750/750 [==============================] - 0s 26us/sample - loss: 0.0941 - accuracy: 1.0000\n",
      "Epoch 88/100\n",
      "750/750 [==============================] - 0s 26us/sample - loss: 0.0926 - accuracy: 1.0000\n",
      "Epoch 89/100\n",
      "750/750 [==============================] - 0s 27us/sample - loss: 0.0911 - accuracy: 1.0000\n",
      "Epoch 90/100\n",
      "750/750 [==============================] - 0s 26us/sample - loss: 0.0896 - accuracy: 1.0000\n",
      "Epoch 91/100\n",
      "750/750 [==============================] - 0s 27us/sample - loss: 0.0882 - accuracy: 1.0000\n",
      "Epoch 92/100\n",
      "750/750 [==============================] - 0s 26us/sample - loss: 0.0868 - accuracy: 1.0000\n",
      "Epoch 93/100\n",
      "750/750 [==============================] - 0s 27us/sample - loss: 0.0854 - accuracy: 1.0000\n",
      "Epoch 94/100\n",
      "750/750 [==============================] - 0s 27us/sample - loss: 0.0841 - accuracy: 1.0000\n",
      "Epoch 95/100\n",
      "750/750 [==============================] - 0s 27us/sample - loss: 0.0828 - accuracy: 1.0000\n",
      "Epoch 96/100\n",
      "750/750 [==============================] - 0s 26us/sample - loss: 0.0815 - accuracy: 1.0000\n",
      "Epoch 97/100\n",
      "750/750 [==============================] - 0s 27us/sample - loss: 0.0802 - accuracy: 1.0000\n",
      "Epoch 98/100\n",
      "750/750 [==============================] - 0s 27us/sample - loss: 0.0790 - accuracy: 1.0000\n",
      "Epoch 99/100\n",
      "750/750 [==============================] - 0s 26us/sample - loss: 0.0778 - accuracy: 1.0000\n",
      "Epoch 100/100\n",
      "750/750 [==============================] - 0s 27us/sample - loss: 0.0766 - accuracy: 1.0000\n"
     ]
    }
   ],
   "source": [
    "# At last, our Sequential neural network is modeled and compiled, so now we can move onto training/fitting our model to the dummy data. To train/fit our Keras model, we'll use the fit method and provide the x training values and y training values, as well as the number of epochs. Each epoch is a complete pass through the training data. As we tested earlier in the TensorFlow Playground, the neural network binary classification model reached optimal performance at around 100 epochs. Since we designed our Sequential model to match the TensorFlow Playground simulation, we should expect similar performance. To our notebooks, we'll add and run the following code:\n",
    "\n",
    "# Fit the model to the training data\n",
    "fit_model = nn_model.fit(X_train_scaled, y_train, epochs=100)"
   ]
  },
  {
   "cell_type": "code",
   "execution_count": 11,
   "id": "3f22c8a7",
   "metadata": {},
   "outputs": [
    {
     "data": {
      "text/plain": [
       "<AxesSubplot:>"
      ]
     },
     "execution_count": 11,
     "metadata": {},
     "output_type": "execute_result"
    },
    {
     "data": {
      "image/png": "[encoded data removed]",
      "text/plain": [
       "<Figure size 432x288 with 1 Axes>"
      ]
     },
     "metadata": {
      "needs_background": "light"
     },
     "output_type": "display_data"
    }
   ],
   "source": [
    "# Looking at the model training output, we know that the loss metric was 0.07 and the predictive accuracy is 1.0. This means that although our model performance had more loss than the simulation data, the model correctly classifies all of our training data, which is sufficient for our needs. Note that the model isn't seeded, meaning that the results in your notebook will likely not be identical to one in this example. However, you should observe similar general trends.\n",
    "\n",
    "# Under the hood, the neural network will select random weights to start training the model, so that each and every time we create a neural network, the model will be different. However, due to the adam optimizer, our model's end performance should be very similar, regardless of the loss function.\n",
    "\n",
    "# When training completes, the model object stores the loss and accuracy metrics across all epochs, which we can use to visualize the training progress. For example, if we wanted to visualize our model's loss over the full 100 epochs, we can run the following code in our notebooks:\n",
    "\n",
    "# Create a DataFrame containing training history\n",
    "history_df = pd.DataFrame(fit_model.history, index=range(1,len(fit_model.history[\"loss\"])+1))\n",
    "\n",
    "# Plot the loss\n",
    "history_df.plot(y=\"loss\")"
   ]
  },
  {
   "cell_type": "code",
   "execution_count": 12,
   "id": "6fe8dd58",
   "metadata": {},
   "outputs": [
    {
     "data": {
      "text/plain": [
       "<AxesSubplot:>"
      ]
     },
     "execution_count": 12,
     "metadata": {},
     "output_type": "execute_result"
    },
    {
     "data": {
      "image/png": "[encoded data removed]",
      "text/plain": [
       "<Figure size 432x288 with 1 Axes>"
      ]
     },
     "metadata": {
      "needs_background": "light"
     },
     "output_type": "display_data"
    }
   ],
   "source": [
    "# Similarly, we can plot the accuracy over time using the same DataFrame:\n",
    "\n",
    "# Plot the accuracy\n",
    "history_df.plot(y=\"accuracy\")"
   ]
  },
  {
   "cell_type": "code",
   "execution_count": 13,
   "id": "ebe7d0f7",
   "metadata": {},
   "outputs": [
    {
     "name": "stdout",
     "output_type": "stream",
     "text": [
      "250/1 - 0s - loss: 0.0684 - accuracy: 1.0000\n",
      "Loss: 0.07848842632770538, Accuracy: 1.0\n"
     ]
    }
   ],
   "source": [
    "# Remember, our neural network consisted of a single hidden layer with one neuron—if we were to increase the number of neurons in the hidden layer, the neural network would have been able to fit the training data even faster!\n",
    "\n",
    "# Now that our model has been properly trained, we must evaluate model performance using the test data. Testing a neural network model in TensorFlow is very similar to testing a machine learning model in Scikit-learn. For our purposes, we'll use the evaluate method and print the testing loss and accuracy values. In our notebooks, we'll add and run the following code:\n",
    "\n",
    "# Evaluate the model using the test data\n",
    "model_loss, model_accuracy = nn_model.evaluate(X_test_scaled,y_test,verbose=2)\n",
    "print(f\"Loss: {model_loss}, Accuracy: {model_accuracy}\")"
   ]
  },
  {
   "cell_type": "code",
   "execution_count": 14,
   "id": "0a26fafb",
   "metadata": {},
   "outputs": [
    {
     "data": {
      "text/plain": [
       "array([[0],\n",
       "       [1],\n",
       "       [0],\n",
       "       [1],\n",
       "       [0],\n",
       "       [0],\n",
       "       [1],\n",
       "       [1],\n",
       "       [1],\n",
       "       [0]], dtype=int32)"
      ]
     },
     "execution_count": 14,
     "metadata": {},
     "output_type": "execute_result"
    }
   ],
   "source": [
    "# Looking at the performance metrics from the model, the neural network was able to correctly classify each of the points in the test data. In other words, the model was able to correctly classify data it was not trained on 100% of the time. Although perfect model performance is ideal, more complex datasets and models may not be able to achieve 100% accuracy. Therefore, it is important to establish model performance thresholds before designing any machine learning model. Depending on the type of data and the use case, we may have to recreate and retrain a model using different parameters, different training/test data, or even look to use a different model entirely.\n",
    "\n",
    "# NOTE\n",
    "# Later in this module, we'll discuss strategies on improving a model's performance.\n",
    "\n",
    "# Now that we have a trained neural network model and we have verified its performance using a test dataset, we can apply this model to novel datasets and predict the classification of a data point. In our Sequential model, we can use the predict method to generate predictions on new data. For example, if we wanted to predict the class of a new blob dataset, we can add and run the following code:\n",
    "\n",
    "# Predict the classification of a new set of blob data\n",
    "new_X, new_Y = make_blobs(n_samples=10, centers=2, n_features=2, random_state=78)\n",
    "new_X_scaled = X_scaler.transform(new_X)\n",
    "(nn_model.predict(new_X_scaled) > 0.5).astype(\"int32\")"
   ]
  },
  {
   "cell_type": "code",
   "execution_count": 15,
   "id": "a85ef486",
   "metadata": {},
   "outputs": [
    {
     "data": {
      "text/plain": [
       "<AxesSubplot:xlabel='Feature 1', ylabel='Feature 2'>"
      ]
     },
     "execution_count": 15,
     "metadata": {},
     "output_type": "execute_result"
    },
    {
     "data": {
      "image/png": "[encoded data removed]",
      "text/plain": [
       "<Figure size 432x288 with 2 Axes>"
      ]
     },
     "metadata": {
      "needs_background": "light"
     },
     "output_type": "display_data"
    }
   ],
   "source": [
    "# Now that we have designed a basic single-neuron, single-layer model, trained the model, and evaluated its performance using a test dataset, we are ready to start testing the limits of the basic neural network. As previously mentioned, simple linear regression and singular perceptron models work really well as a binary classifier when the data is linearly separable. But what about nonlinear data? How does our basic neural network model behave when data becomes more complicated?\n",
    "\n",
    "# To test this behavior, let's generate some new dummy data. This time we'll generate some nonlinear moon-shaped data using Scikit-learn's make_moons method and visualize it using Pandas and Matplotlib. Using the same notebook, we'll add and run the following code:\n",
    "\n",
    "from sklearn.datasets import make_moons\n",
    "\n",
    "# Creating dummy nonlinear data\n",
    "X_moons, y_moons = make_moons(n_samples=1000, noise=0.08, random_state=78)\n",
    "\n",
    "# Transforming y_moons to a vertical vector\n",
    "y_moons = y_moons.reshape(-1, 1)\n",
    "\n",
    "# Creating a DataFrame to plot the nonlinear dummy data\n",
    "df_moons = pd.DataFrame(X_moons, columns=[\"Feature 1\", \"Feature 2\"])\n",
    "df_moons[\"Target\"] = y_moons\n",
    "\n",
    "# Plot the nonlinear dummy data\n",
    "df_moons.plot.scatter(x=\"Feature 1\",y=\"Feature 2\", c=\"Target\",colormap=\"winter\")"
   ]
  },
  {
   "cell_type": "code",
   "execution_count": 16,
   "id": "4572f893",
   "metadata": {},
   "outputs": [],
   "source": [
    "# Since we are not changing the structure of our neural network, nor are we changing its function, we can use the same Sequential model object. The only difference from our previous workflow is this time we will retrain and evaluate on the nonlinear moon-shaped data.\n",
    "\n",
    "# NOTE\n",
    "# If you want to preview how this model behaves, try simulating the single-neuron, single-layer model in TensorFlow PlaygroundLinks to an external site., using their spiral dataset!\n",
    "\n",
    "# As with our previous dummy data example, we need to split our nonlinear data into training and testing datasets and normalize our datasets. In the same notebook, we'll add and run the following code:\n",
    "\n",
    "# Create training and testing sets\n",
    "X_moon_train, X_moon_test, y_moon_train, y_moon_test = train_test_split(\n",
    "    X_moons, y_moons, random_state=78\n",
    ")\n",
    "\n",
    "# Create the scaler instance\n",
    "X_moon_scaler = skl.preprocessing.StandardScaler()\n",
    "\n",
    "# Fit the scaler\n",
    "X_moon_scaler.fit(X_moon_train)\n",
    "\n",
    "# Scale the data\n",
    "X_moon_train_scaled = X_moon_scaler.transform(X_moon_train)\n",
    "X_moon_test_scaled = X_moon_scaler.transform(X_moon_test)"
   ]
  },
  {
   "cell_type": "code",
   "execution_count": 17,
   "id": "7fb7a21d",
   "metadata": {},
   "outputs": [
    {
     "name": "stdout",
     "output_type": "stream",
     "text": [
      "Train on 750 samples\n",
      "Epoch 1/100\n",
      "750/750 [==============================] - 0s 71us/sample - loss: 0.8158 - accuracy: 0.5867\n",
      "Epoch 2/100\n",
      "750/750 [==============================] - 0s 29us/sample - loss: 0.7228 - accuracy: 0.6040\n",
      "Epoch 3/100\n",
      "750/750 [==============================] - 0s 29us/sample - loss: 0.6571 - accuracy: 0.6240\n",
      "Epoch 4/100\n",
      "750/750 [==============================] - 0s 28us/sample - loss: 0.6105 - accuracy: 0.6427\n",
      "Epoch 5/100\n",
      "750/750 [==============================] - 0s 28us/sample - loss: 0.5753 - accuracy: 0.6640\n",
      "Epoch 6/100\n",
      "750/750 [==============================] - 0s 28us/sample - loss: 0.5467 - accuracy: 0.6733\n",
      "Epoch 7/100\n",
      "750/750 [==============================] - 0s 28us/sample - loss: 0.5230 - accuracy: 0.6827\n",
      "Epoch 8/100\n",
      "750/750 [==============================] - 0s 28us/sample - loss: 0.5034 - accuracy: 0.6973\n",
      "Epoch 9/100\n",
      "750/750 [==============================] - 0s 30us/sample - loss: 0.4858 - accuracy: 0.7107\n",
      "Epoch 10/100\n",
      "750/750 [==============================] - 0s 28us/sample - loss: 0.4702 - accuracy: 0.7187\n",
      "Epoch 11/100\n",
      "750/750 [==============================] - 0s 28us/sample - loss: 0.4558 - accuracy: 0.7280\n",
      "Epoch 12/100\n",
      "750/750 [==============================] - 0s 27us/sample - loss: 0.4432 - accuracy: 0.7333\n",
      "Epoch 13/100\n",
      "750/750 [==============================] - 0s 29us/sample - loss: 0.4316 - accuracy: 0.7453\n",
      "Epoch 14/100\n",
      "750/750 [==============================] - 0s 28us/sample - loss: 0.4208 - accuracy: 0.7613\n",
      "Epoch 15/100\n",
      "750/750 [==============================] - 0s 28us/sample - loss: 0.4108 - accuracy: 0.7693\n",
      "Epoch 16/100\n",
      "750/750 [==============================] - 0s 27us/sample - loss: 0.4014 - accuracy: 0.7787\n",
      "Epoch 17/100\n",
      "750/750 [==============================] - 0s 29us/sample - loss: 0.3926 - accuracy: 0.7813\n",
      "Epoch 18/100\n",
      "750/750 [==============================] - 0s 27us/sample - loss: 0.3843 - accuracy: 0.7880\n",
      "Epoch 19/100\n",
      "750/750 [==============================] - 0s 29us/sample - loss: 0.3766 - accuracy: 0.7907\n",
      "Epoch 20/100\n",
      "750/750 [==============================] - 0s 28us/sample - loss: 0.3694 - accuracy: 0.7933\n",
      "Epoch 21/100\n",
      "750/750 [==============================] - 0s 28us/sample - loss: 0.3624 - accuracy: 0.8040\n",
      "Epoch 22/100\n",
      "750/750 [==============================] - 0s 28us/sample - loss: 0.3561 - accuracy: 0.8093\n",
      "Epoch 23/100\n",
      "750/750 [==============================] - 0s 27us/sample - loss: 0.3501 - accuracy: 0.8160\n",
      "Epoch 24/100\n",
      "750/750 [==============================] - 0s 29us/sample - loss: 0.3444 - accuracy: 0.8200\n",
      "Epoch 25/100\n",
      "750/750 [==============================] - 0s 29us/sample - loss: 0.3395 - accuracy: 0.8213\n",
      "Epoch 26/100\n",
      "750/750 [==============================] - 0s 29us/sample - loss: 0.3345 - accuracy: 0.8253\n",
      "Epoch 27/100\n",
      "750/750 [==============================] - 0s 29us/sample - loss: 0.3302 - accuracy: 0.8293\n",
      "Epoch 28/100\n",
      "750/750 [==============================] - 0s 28us/sample - loss: 0.3258 - accuracy: 0.8307\n",
      "Epoch 29/100\n",
      "750/750 [==============================] - 0s 28us/sample - loss: 0.3219 - accuracy: 0.8320\n",
      "Epoch 30/100\n",
      "750/750 [==============================] - 0s 28us/sample - loss: 0.3182 - accuracy: 0.8347\n",
      "Epoch 31/100\n",
      "750/750 [==============================] - 0s 27us/sample - loss: 0.3149 - accuracy: 0.8360\n",
      "Epoch 32/100\n",
      "750/750 [==============================] - 0s 28us/sample - loss: 0.3119 - accuracy: 0.8387\n",
      "Epoch 33/100\n",
      "750/750 [==============================] - 0s 27us/sample - loss: 0.3089 - accuracy: 0.8400\n",
      "Epoch 34/100\n",
      "750/750 [==============================] - 0s 28us/sample - loss: 0.3062 - accuracy: 0.8467\n",
      "Epoch 35/100\n",
      "750/750 [==============================] - 0s 28us/sample - loss: 0.3037 - accuracy: 0.8493\n",
      "Epoch 36/100\n",
      "750/750 [==============================] - 0s 29us/sample - loss: 0.3014 - accuracy: 0.8507\n",
      "Epoch 37/100\n",
      "750/750 [==============================] - 0s 29us/sample - loss: 0.2993 - accuracy: 0.8573\n",
      "Epoch 38/100\n",
      "750/750 [==============================] - 0s 28us/sample - loss: 0.2972 - accuracy: 0.8587\n",
      "Epoch 39/100\n",
      "750/750 [==============================] - 0s 28us/sample - loss: 0.2952 - accuracy: 0.8627\n",
      "Epoch 40/100\n",
      "750/750 [==============================] - 0s 29us/sample - loss: 0.2933 - accuracy: 0.8653\n",
      "Epoch 41/100\n",
      "750/750 [==============================] - 0s 30us/sample - loss: 0.2916 - accuracy: 0.8667\n",
      "Epoch 42/100\n",
      "750/750 [==============================] - 0s 30us/sample - loss: 0.2899 - accuracy: 0.8667\n",
      "Epoch 43/100\n",
      "750/750 [==============================] - 0s 29us/sample - loss: 0.2884 - accuracy: 0.8667\n",
      "Epoch 44/100\n",
      "750/750 [==============================] - 0s 32us/sample - loss: 0.2868 - accuracy: 0.8667\n",
      "Epoch 45/100\n",
      "750/750 [==============================] - 0s 43us/sample - loss: 0.2854 - accuracy: 0.8680\n",
      "Epoch 46/100\n",
      "750/750 [==============================] - 0s 47us/sample - loss: 0.2841 - accuracy: 0.8707\n",
      "Epoch 47/100\n",
      "750/750 [==============================] - 0s 29us/sample - loss: 0.2828 - accuracy: 0.8733\n",
      "Epoch 48/100\n",
      "750/750 [==============================] - 0s 36us/sample - loss: 0.2815 - accuracy: 0.8733\n",
      "Epoch 49/100\n",
      "750/750 [==============================] - 0s 28us/sample - loss: 0.2803 - accuracy: 0.8747\n",
      "Epoch 50/100\n",
      "750/750 [==============================] - 0s 28us/sample - loss: 0.2793 - accuracy: 0.8760\n",
      "Epoch 51/100\n",
      "750/750 [==============================] - 0s 28us/sample - loss: 0.2782 - accuracy: 0.8773\n",
      "Epoch 52/100\n",
      "750/750 [==============================] - 0s 32us/sample - loss: 0.2773 - accuracy: 0.8773\n",
      "Epoch 53/100\n",
      "750/750 [==============================] - 0s 31us/sample - loss: 0.2763 - accuracy: 0.8787\n",
      "Epoch 54/100\n",
      "750/750 [==============================] - 0s 28us/sample - loss: 0.2753 - accuracy: 0.8800\n",
      "Epoch 55/100\n",
      "750/750 [==============================] - 0s 29us/sample - loss: 0.2745 - accuracy: 0.8813\n",
      "Epoch 56/100\n",
      "750/750 [==============================] - 0s 29us/sample - loss: 0.2737 - accuracy: 0.8813\n",
      "Epoch 57/100\n",
      "750/750 [==============================] - 0s 29us/sample - loss: 0.2729 - accuracy: 0.8840\n",
      "Epoch 58/100\n",
      "750/750 [==============================] - 0s 29us/sample - loss: 0.2721 - accuracy: 0.8840\n",
      "Epoch 59/100\n",
      "750/750 [==============================] - 0s 28us/sample - loss: 0.2713 - accuracy: 0.8840\n",
      "Epoch 60/100\n",
      "750/750 [==============================] - 0s 30us/sample - loss: 0.2707 - accuracy: 0.8840\n",
      "Epoch 61/100\n",
      "750/750 [==============================] - 0s 31us/sample - loss: 0.2700 - accuracy: 0.8840\n",
      "Epoch 62/100\n",
      "750/750 [==============================] - 0s 31us/sample - loss: 0.2694 - accuracy: 0.8840\n",
      "Epoch 63/100\n",
      "750/750 [==============================] - 0s 31us/sample - loss: 0.2688 - accuracy: 0.8880\n",
      "Epoch 64/100\n",
      "750/750 [==============================] - 0s 30us/sample - loss: 0.2682 - accuracy: 0.8853\n",
      "Epoch 65/100\n",
      "750/750 [==============================] - 0s 30us/sample - loss: 0.2676 - accuracy: 0.8867\n",
      "Epoch 66/100\n",
      "750/750 [==============================] - 0s 30us/sample - loss: 0.2672 - accuracy: 0.8867\n",
      "Epoch 67/100\n",
      "750/750 [==============================] - 0s 29us/sample - loss: 0.2666 - accuracy: 0.8853\n",
      "Epoch 68/100\n",
      "750/750 [==============================] - 0s 31us/sample - loss: 0.2661 - accuracy: 0.8840\n",
      "Epoch 69/100\n",
      "750/750 [==============================] - 0s 29us/sample - loss: 0.2657 - accuracy: 0.8853\n",
      "Epoch 70/100\n",
      "750/750 [==============================] - 0s 29us/sample - loss: 0.2651 - accuracy: 0.8853\n",
      "Epoch 71/100\n",
      "750/750 [==============================] - 0s 31us/sample - loss: 0.2647 - accuracy: 0.8853\n",
      "Epoch 72/100\n",
      "750/750 [==============================] - 0s 29us/sample - loss: 0.2643 - accuracy: 0.8853\n",
      "Epoch 73/100\n",
      "750/750 [==============================] - 0s 29us/sample - loss: 0.2639 - accuracy: 0.8867\n",
      "Epoch 74/100\n",
      "750/750 [==============================] - 0s 29us/sample - loss: 0.2634 - accuracy: 0.8880\n",
      "Epoch 75/100\n",
      "750/750 [==============================] - 0s 29us/sample - loss: 0.2631 - accuracy: 0.8880\n",
      "Epoch 76/100\n",
      "750/750 [==============================] - 0s 54us/sample - loss: 0.2627 - accuracy: 0.8880\n",
      "Epoch 77/100\n",
      "750/750 [==============================] - 0s 31us/sample - loss: 0.2623 - accuracy: 0.8880\n",
      "Epoch 78/100\n"
     ]
    },
    {
     "name": "stdout",
     "output_type": "stream",
     "text": [
      "750/750 [==============================] - 0s 28us/sample - loss: 0.2620 - accuracy: 0.8880\n",
      "Epoch 79/100\n",
      "750/750 [==============================] - 0s 27us/sample - loss: 0.2616 - accuracy: 0.8880\n",
      "Epoch 80/100\n",
      "750/750 [==============================] - 0s 26us/sample - loss: 0.2613 - accuracy: 0.8880\n",
      "Epoch 81/100\n",
      "750/750 [==============================] - 0s 27us/sample - loss: 0.2611 - accuracy: 0.8893\n",
      "Epoch 82/100\n",
      "750/750 [==============================] - 0s 26us/sample - loss: 0.2607 - accuracy: 0.8893\n",
      "Epoch 83/100\n",
      "750/750 [==============================] - 0s 26us/sample - loss: 0.2605 - accuracy: 0.8893\n",
      "Epoch 84/100\n",
      "750/750 [==============================] - 0s 26us/sample - loss: 0.2603 - accuracy: 0.8893\n",
      "Epoch 85/100\n",
      "750/750 [==============================] - 0s 26us/sample - loss: 0.2599 - accuracy: 0.8907\n",
      "Epoch 86/100\n",
      "750/750 [==============================] - 0s 26us/sample - loss: 0.2596 - accuracy: 0.8907\n",
      "Epoch 87/100\n",
      "750/750 [==============================] - 0s 26us/sample - loss: 0.2594 - accuracy: 0.8893\n",
      "Epoch 88/100\n",
      "750/750 [==============================] - 0s 26us/sample - loss: 0.2592 - accuracy: 0.8893\n",
      "Epoch 89/100\n",
      "750/750 [==============================] - 0s 26us/sample - loss: 0.2590 - accuracy: 0.8907\n",
      "Epoch 90/100\n",
      "750/750 [==============================] - 0s 27us/sample - loss: 0.2587 - accuracy: 0.8907\n",
      "Epoch 91/100\n",
      "750/750 [==============================] - 0s 28us/sample - loss: 0.2585 - accuracy: 0.8920\n",
      "Epoch 92/100\n",
      "750/750 [==============================] - 0s 27us/sample - loss: 0.2583 - accuracy: 0.8920\n",
      "Epoch 93/100\n",
      "750/750 [==============================] - 0s 26us/sample - loss: 0.2581 - accuracy: 0.8920\n",
      "Epoch 94/100\n",
      "750/750 [==============================] - 0s 26us/sample - loss: 0.2579 - accuracy: 0.8920\n",
      "Epoch 95/100\n",
      "750/750 [==============================] - 0s 26us/sample - loss: 0.2577 - accuracy: 0.8933\n",
      "Epoch 96/100\n",
      "750/750 [==============================] - 0s 26us/sample - loss: 0.2575 - accuracy: 0.8933\n",
      "Epoch 97/100\n",
      "750/750 [==============================] - 0s 26us/sample - loss: 0.2573 - accuracy: 0.8933\n",
      "Epoch 98/100\n",
      "750/750 [==============================] - 0s 26us/sample - loss: 0.2572 - accuracy: 0.8933\n",
      "Epoch 99/100\n",
      "750/750 [==============================] - 0s 26us/sample - loss: 0.2569 - accuracy: 0.8933\n",
      "Epoch 100/100\n",
      "750/750 [==============================] - 0s 26us/sample - loss: 0.2568 - accuracy: 0.8947\n"
     ]
    }
   ],
   "source": [
    "# Just as we did with the linear data, we'll train our neural network model using the fit method on the nonlinear training data. Let's add and run the following code to our notebooks:\n",
    "\n",
    "# Training the model with the nonlinear data\n",
    "model_moon = nn_model.fit(X_moon_train_scaled, y_moon_train, epochs=100, shuffle=True)"
   ]
  },
  {
   "cell_type": "code",
   "execution_count": 18,
   "id": "005a0783",
   "metadata": {},
   "outputs": [
    {
     "data": {
      "text/plain": [
       "<AxesSubplot:>"
      ]
     },
     "execution_count": 18,
     "metadata": {},
     "output_type": "execute_result"
    },
    {
     "data": {
      "image/png": "[encoded data removed]",
      "text/plain": [
       "<Figure size 432x288 with 1 Axes>"
      ]
     },
     "metadata": {
      "needs_background": "light"
     },
     "output_type": "display_data"
    }
   ],
   "source": [
    "# Notice that this time our single-neuron, single-layer neural network was unable to accurately classify all of our training data.\n",
    "\n",
    "# Let's plot out the loss and accuracy curves over our training iterations. Again, we'll add and run the following code to the notebook:\n",
    "\n",
    "# Create a DataFrame containing training history\n",
    "history_df = pd.DataFrame(model_moon.history, index=range(1,len(model_moon.history[\"loss\"])+1))\n",
    "\n",
    "# Plot the loss\n",
    "history_df.plot(y=\"loss\")"
   ]
  },
  {
   "cell_type": "code",
   "execution_count": 19,
   "id": "b1f37616",
   "metadata": {},
   "outputs": [
    {
     "data": {
      "text/plain": [
       "<AxesSubplot:>"
      ]
     },
     "execution_count": 19,
     "metadata": {},
     "output_type": "execute_result"
    },
    {
     "data": {
      "image/png": "[encoded data removed]",
      "text/plain": [
       "<Figure size 432x288 with 1 Axes>"
      ]
     },
     "metadata": {
      "needs_background": "light"
     },
     "output_type": "display_data"
    }
   ],
   "source": [
    "# Plot the accuracy\n",
    "history_df.plot(y=\"accuracy\")"
   ]
  },
  {
   "cell_type": "code",
   "execution_count": 20,
   "id": "a9eef3e7",
   "metadata": {},
   "outputs": [],
   "source": [
    "# According to the accuracy metric, the basic single-neuron, single-layer neural network model was only able to correctly classify 89% of all data points in the nonlinear training data. Depending on a person's use case, 89% accuracy could be sufficient for a first-pass model. For example, if we were trying to use a neural network model to separate left-handed people from right-handed people, a model that is correct 89% of the time is very accurate, and guessing incorrectly does not have a huge negative impact.\n",
    "\n",
    "# However, in many industrial and medical use cases, a model's classification accuracy must exceed 95% or even 99%. In these cases, we wouldn't be satisfied with the basic single-neuron, single-layer neural network model, and we would have to design a more robust neural network. In summary, the more complicated and nonlinear the dataset, the more components we'd need to add to a neural network to achieve our desired performance."
   ]
  },
  {
   "cell_type": "code",
   "execution_count": null,
   "id": "ff0d1aa9",
   "metadata": {},
   "outputs": [],
   "source": []
  }
 ],
 "metadata": {
  "kernelspec": {
   "display_name": "mlenv",
   "language": "python",
   "name": "mlenv"
  },
  "language_info": {
   "codemirror_mode": {
    "name": "ipython",
    "version": 3
   },
   "file_extension": ".py",
   "mimetype": "text/x-python",
   "name": "python",
   "nbconvert_exporter": "python",
   "pygments_lexer": "ipython3",
   "version": "3.7.11"
  }
 },
 "nbformat": 4,
 "nbformat_minor": 5
}
